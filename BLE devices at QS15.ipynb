{
 "cells": [
  {
   "cell_type": "code",
   "execution_count": 22,
   "metadata": {
    "collapsed": false
   },
   "outputs": [
    {
     "name": "stdout",
     "output_type": "stream",
     "text": [
      "Populating the interactive namespace from numpy and matplotlib\n"
     ]
    }
   ],
   "source": [
    "% pylab inline\n",
    "import pandas as pd\n",
    "import sqlite3\n",
    "import seaborn as sns"
   ]
  },
  {
   "cell_type": "code",
   "execution_count": 16,
   "metadata": {
    "collapsed": true
   },
   "outputs": [],
   "source": [
    "db = sqlite3.connect(\"/Users/onyame/Dropbox/QuantifiedSelf/btle_backup_20062015_1241.sqlite\")"
   ]
  },
  {
   "cell_type": "code",
   "execution_count": 46,
   "metadata": {
    "collapsed": true
   },
   "outputs": [],
   "source": [
    "df = pd.read_sql(\"SELECT * from devices\", db,index_col='id')"
   ]
  },
  {
   "cell_type": "code",
   "execution_count": 47,
   "metadata": {
    "collapsed": false
   },
   "outputs": [
    {
     "data": {
      "text/html": [
       "<div style=\"max-height:1000px;max-width:1500px;overflow:auto;\">\n",
       "<table border=\"1\" class=\"dataframe\">\n",
       "  <thead>\n",
       "    <tr style=\"text-align: right;\">\n",
       "      <th></th>\n",
       "      <th>address</th>\n",
       "      <th>addresstype</th>\n",
       "      <th>devicename</th>\n",
       "      <th>devicetype</th>\n",
       "      <th>firstseen</th>\n",
       "      <th>lastseen</th>\n",
       "      <th>scanresp</th>\n",
       "      <th>manufacturerspecificdatakey</th>\n",
       "      <th>manufacturerspecificdatafield</th>\n",
       "      <th>servicesuuid16</th>\n",
       "      <th>servicesuuid32</th>\n",
       "      <th>servicesuuid128</th>\n",
       "      <th>solicitedservicesuuid16</th>\n",
       "      <th>solicitedservicesuuid128</th>\n",
       "      <th>servicedata</th>\n",
       "    </tr>\n",
       "    <tr>\n",
       "      <th>id</th>\n",
       "      <th></th>\n",
       "      <th></th>\n",
       "      <th></th>\n",
       "      <th></th>\n",
       "      <th></th>\n",
       "      <th></th>\n",
       "      <th></th>\n",
       "      <th></th>\n",
       "      <th></th>\n",
       "      <th></th>\n",
       "      <th></th>\n",
       "      <th></th>\n",
       "      <th></th>\n",
       "      <th></th>\n",
       "      <th></th>\n",
       "    </tr>\n",
       "  </thead>\n",
       "  <tbody>\n",
       "    <tr>\n",
       "      <th>1</th>\n",
       "      <td> E1:53:4A:3A:6F:82</td>\n",
       "      <td> None</td>\n",
       "      <td>      One</td>\n",
       "      <td>                     Fitbit One (from device name)</td>\n",
       "      <td> 22/05/2015 12:24:46</td>\n",
       "      <td> 22/05/2015 12:25:01</td>\n",
       "      <td> None</td>\n",
       "      <td>NaN</td>\n",
       "      <td>                                           None</td>\n",
       "      <td> None</td>\n",
       "      <td> None</td>\n",
       "      <td> adab6bc46e7d4601bda2bffaa68956ba</td>\n",
       "      <td> None</td>\n",
       "      <td> None</td>\n",
       "      <td>                   Device Information (180a): 0504</td>\n",
       "    </tr>\n",
       "    <tr>\n",
       "      <th>2</th>\n",
       "      <td> C6:69:71:3C:BB:91</td>\n",
       "      <td> None</td>\n",
       "      <td>      One</td>\n",
       "      <td> Fitbit One (from device name), Fitbit Charge H...</td>\n",
       "      <td> 22/05/2015 12:24:42</td>\n",
       "      <td> 20/06/2015 12:36:21</td>\n",
       "      <td> None</td>\n",
       "      <td>NaN</td>\n",
       "      <td>                                           None</td>\n",
       "      <td> None</td>\n",
       "      <td> None</td>\n",
       "      <td> adabfb006e7d4601bda2bffaa68956ba</td>\n",
       "      <td> None</td>\n",
       "      <td> None</td>\n",
       "      <td>                   Device Information (180a): 0506</td>\n",
       "    </tr>\n",
       "    <tr>\n",
       "      <th>3</th>\n",
       "      <td> DD:3A:1E:C6:8A:A8</td>\n",
       "      <td> None</td>\n",
       "      <td> estimote</td>\n",
       "      <td>                        Apple device (from MSData)</td>\n",
       "      <td> 22/05/2015 14:53:16</td>\n",
       "      <td> 20/06/2015 12:36:19</td>\n",
       "      <td> None</td>\n",
       "      <td> 76</td>\n",
       "      <td> 0215b9407f30f5f8466eaff925556b57fe6d8aa81ec6af</td>\n",
       "      <td> None</td>\n",
       "      <td> None</td>\n",
       "      <td>                             None</td>\n",
       "      <td> None</td>\n",
       "      <td> None</td>\n",
       "      <td> Device Information (180a): a88ac61e3addafa88ac61e</td>\n",
       "    </tr>\n",
       "    <tr>\n",
       "      <th>4</th>\n",
       "      <td> F6:19:23:5D:29:68</td>\n",
       "      <td> None</td>\n",
       "      <td> estimote</td>\n",
       "      <td>                        Apple device (from MSData)</td>\n",
       "      <td> 22/05/2015 22:42:13</td>\n",
       "      <td> 23/05/2015 10:31:10</td>\n",
       "      <td> None</td>\n",
       "      <td> 76</td>\n",
       "      <td> 0215b9407f30f5f8466eaff925556b57fe6d2968235db6</td>\n",
       "      <td> None</td>\n",
       "      <td> None</td>\n",
       "      <td>                             None</td>\n",
       "      <td> None</td>\n",
       "      <td> None</td>\n",
       "      <td> Device Information (180a): 68295d2319f6b668295d23</td>\n",
       "    </tr>\n",
       "    <tr>\n",
       "      <th>5</th>\n",
       "      <td> 14:99:E2:05:F8:BD</td>\n",
       "      <td> None</td>\n",
       "      <td>     None</td>\n",
       "      <td>                        Apple device (from MSData)</td>\n",
       "      <td> 23/05/2015 15:46:01</td>\n",
       "      <td> 23/05/2015 15:46:01</td>\n",
       "      <td> None</td>\n",
       "      <td> 76</td>\n",
       "      <td>                               09060357c0a8007a</td>\n",
       "      <td> None</td>\n",
       "      <td> None</td>\n",
       "      <td>                             None</td>\n",
       "      <td> None</td>\n",
       "      <td> None</td>\n",
       "      <td>                                              None</td>\n",
       "    </tr>\n",
       "  </tbody>\n",
       "</table>\n",
       "</div>"
      ],
      "text/plain": [
       "              address addresstype devicename  \\\n",
       "id                                             \n",
       "1   E1:53:4A:3A:6F:82        None        One   \n",
       "2   C6:69:71:3C:BB:91        None        One   \n",
       "3   DD:3A:1E:C6:8A:A8        None   estimote   \n",
       "4   F6:19:23:5D:29:68        None   estimote   \n",
       "5   14:99:E2:05:F8:BD        None       None   \n",
       "\n",
       "                                           devicetype            firstseen  \\\n",
       "id                                                                           \n",
       "1                       Fitbit One (from device name)  22/05/2015 12:24:46   \n",
       "2   Fitbit One (from device name), Fitbit Charge H...  22/05/2015 12:24:42   \n",
       "3                          Apple device (from MSData)  22/05/2015 14:53:16   \n",
       "4                          Apple device (from MSData)  22/05/2015 22:42:13   \n",
       "5                          Apple device (from MSData)  23/05/2015 15:46:01   \n",
       "\n",
       "               lastseen scanresp  manufacturerspecificdatakey  \\\n",
       "id                                                              \n",
       "1   22/05/2015 12:25:01     None                          NaN   \n",
       "2   20/06/2015 12:36:21     None                          NaN   \n",
       "3   20/06/2015 12:36:19     None                           76   \n",
       "4   23/05/2015 10:31:10     None                           76   \n",
       "5   23/05/2015 15:46:01     None                           76   \n",
       "\n",
       "                     manufacturerspecificdatafield servicesuuid16  \\\n",
       "id                                                                  \n",
       "1                                             None           None   \n",
       "2                                             None           None   \n",
       "3   0215b9407f30f5f8466eaff925556b57fe6d8aa81ec6af           None   \n",
       "4   0215b9407f30f5f8466eaff925556b57fe6d2968235db6           None   \n",
       "5                                 09060357c0a8007a           None   \n",
       "\n",
       "   servicesuuid32                   servicesuuid128 solicitedservicesuuid16  \\\n",
       "id                                                                            \n",
       "1            None  adab6bc46e7d4601bda2bffaa68956ba                    None   \n",
       "2            None  adabfb006e7d4601bda2bffaa68956ba                    None   \n",
       "3            None                              None                    None   \n",
       "4            None                              None                    None   \n",
       "5            None                              None                    None   \n",
       "\n",
       "   solicitedservicesuuid128                                        servicedata  \n",
       "id                                                                              \n",
       "1                      None                    Device Information (180a): 0504  \n",
       "2                      None                    Device Information (180a): 0506  \n",
       "3                      None  Device Information (180a): a88ac61e3addafa88ac61e  \n",
       "4                      None  Device Information (180a): 68295d2319f6b668295d23  \n",
       "5                      None                                               None  "
      ]
     },
     "execution_count": 47,
     "metadata": {},
     "output_type": "execute_result"
    }
   ],
   "source": [
    "df.head()"
   ]
  },
  {
   "cell_type": "code",
   "execution_count": 48,
   "metadata": {
    "collapsed": false
   },
   "outputs": [],
   "source": [
    "df['devicetype'] = df['devicetype'].str.replace('\\(.*\\)', '', case=False)"
   ]
  },
  {
   "cell_type": "code",
   "execution_count": 49,
   "metadata": {
    "collapsed": true
   },
   "outputs": [],
   "source": [
    "device_types = df.groupby('devicetype').size()\n",
    "device_names = df.groupby('devicename').size()"
   ]
  },
  {
   "cell_type": "code",
   "execution_count": 50,
   "metadata": {
    "collapsed": false
   },
   "outputs": [
    {
     "data": {
      "text/plain": [
       "devicetype\n",
       "Apple device              447\n",
       "Ericsson device             1\n",
       "Fitbit Charge               5\n",
       "Fitbit Charge HR           24\n",
       "Fitbit Flex                12\n",
       "Fitbit One                 27\n",
       "Garmin Device               1\n",
       "Garmin Vivosmart            1\n",
       "Google device               1\n",
       "Jawbone UP24                9\n",
       "MI                          2\n",
       "Misfit Wearables Corp       7\n",
       "Nike device                 5\n",
       "Nordic device               1\n",
       "Unknown device            107\n",
       "dtype: int64"
      ]
     },
     "execution_count": 50,
     "metadata": {},
     "output_type": "execute_result"
    }
   ],
   "source": [
    "device_types"
   ]
  },
  {
   "cell_type": "code",
   "execution_count": 51,
   "metadata": {
    "collapsed": false
   },
   "outputs": [
    {
     "data": {
      "text/plain": [
       "<matplotlib.axes._subplots.AxesSubplot at 0x110559090>"
      ]
     },
     "execution_count": 51,
     "metadata": {},
     "output_type": "execute_result"
    },
    {
     "data": {
      "image/png": "[encoded data removed]",
      "text/plain": [
       "<matplotlib.figure.Figure at 0x1105c6f10>"
      ]
     },
     "metadata": {},
     "output_type": "display_data"
    }
   ],
   "source": [
    "device_types.plot(kind='bar')"
   ]
  },
  {
   "cell_type": "code",
   "execution_count": 62,
   "metadata": {
    "collapsed": false
   },
   "outputs": [
    {
     "data": {
      "text/plain": [
       "Index([u'Apple device ', u'Ericsson device ', u'Fitbit Charge ', u'Fitbit Charge HR ', u'Fitbit Flex ', u'Fitbit One ', u'Garmin Device ', u'Garmin Vivosmart ', u'Google device ', u'Jawbone UP24 ', u'MI ', u'Misfit Wearables Corp ', u'Nike device ', u'Nordic device ', u'Unknown device'], dtype='object')"
      ]
     },
     "execution_count": 62,
     "metadata": {},
     "output_type": "execute_result"
    }
   ],
   "source": [
    "device_types.keys()"
   ]
  },
  {
   "cell_type": "code",
   "execution_count": 63,
   "metadata": {
    "collapsed": true
   },
   "outputs": [],
   "source": [
    "devices = device_types.drop([u'Apple device ',u'Unknown device'])\n"
   ]
  },
  {
   "cell_type": "code",
   "execution_count": 64,
   "metadata": {
    "collapsed": false
   },
   "outputs": [
    {
     "data": {
      "text/plain": [
       "devicetype\n",
       "Ericsson device            1\n",
       "Fitbit Charge              5\n",
       "Fitbit Charge HR          24\n",
       "Fitbit Flex               12\n",
       "Fitbit One                27\n",
       "Garmin Device              1\n",
       "Garmin Vivosmart           1\n",
       "Google device              1\n",
       "Jawbone UP24               9\n",
       "MI                         2\n",
       "Misfit Wearables Corp      7\n",
       "Nike device                5\n",
       "Nordic device              1\n",
       "dtype: int64"
      ]
     },
     "execution_count": 64,
     "metadata": {},
     "output_type": "execute_result"
    }
   ],
   "source": [
    "devices"
   ]
  },
  {
   "cell_type": "code",
   "execution_count": 65,
   "metadata": {
    "collapsed": false
   },
   "outputs": [
    {
     "data": {
      "text/plain": [
       "<matplotlib.axes._subplots.AxesSubplot at 0x110c22fd0>"
      ]
     },
     "execution_count": 65,
     "metadata": {},
     "output_type": "execute_result"
    },
    {
     "data": {
      "image/png": "[encoded data removed]",
      "text/plain": [
       "<matplotlib.figure.Figure at 0x1108cbfd0>"
      ]
     },
     "metadata": {},
     "output_type": "display_data"
    }
   ],
   "source": [
    "devices.plot(kind='bar')"
   ]
  },
  {
   "cell_type": "code",
   "execution_count": null,
   "metadata": {
    "collapsed": true
   },
   "outputs": [],
   "source": []
  }
 ],
 "metadata": {
  "anaconda-cloud": {},
  "kernelspec": {
   "display_name": "Python [default]",
   "language": "python",
   "name": "python2"
  },
  "language_info": {
   "codemirror_mode": {
    "name": "ipython",
    "version": 2
   },
   "file_extension": ".py",
   "mimetype": "text/x-python",
   "name": "python",
   "nbconvert_exporter": "python",
   "pygments_lexer": "ipython2",
   "version": "2.7.11"
  }
 },
 "nbformat": 4,
 "nbformat_minor": 0
}
