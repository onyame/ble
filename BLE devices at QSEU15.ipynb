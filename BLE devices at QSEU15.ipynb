{
 "cells": [
  {
   "cell_type": "code",
   "execution_count": 48,
   "metadata": {
    "collapsed": false
   },
   "outputs": [
    {
     "name": "stdout",
     "output_type": "stream",
     "text": [
      "Populating the interactive namespace from numpy and matplotlib\n"
     ]
    }
   ],
   "source": [
    "% pylab inline\n",
    "import pandas as pd\n",
    "import sqlite3\n",
    "import seaborn as sns\n",
    "import datetime"
   ]
  },
  {
   "cell_type": "code",
   "execution_count": 85,
   "metadata": {
    "collapsed": true
   },
   "outputs": [],
   "source": [
    "db = sqlite3.connect(\"/Users/onyame/Dropbox/QuantifiedSelf/btle_backup_19092015_1551.sqlite\")"
   ]
  },
  {
   "cell_type": "code",
   "execution_count": 109,
   "metadata": {
    "collapsed": true
   },
   "outputs": [],
   "source": [
    "df = pd.read_sql(\"SELECT * from devices\", db,index_col='id', parse_dates=['lastseen'])"
   ]
  },
  {
   "cell_type": "code",
   "execution_count": 110,
   "metadata": {
    "collapsed": false
   },
   "outputs": [
    {
     "name": "stdout",
     "output_type": "stream",
     "text": [
      "<class 'pandas.core.frame.DataFrame'>\n",
      "DatetimeIndex: 4468 entries, 2015-05-22 12:25:01 to 2015-09-19 15:48:31\n",
      "Data columns (total 14 columns):\n",
      "address                          4468 non-null object\n",
      "addresstype                      0 non-null object\n",
      "devicename                       706 non-null object\n",
      "devicetype                       4468 non-null object\n",
      "firstseen                        4468 non-null object\n",
      "scanresp                         0 non-null object\n",
      "manufacturerspecificdatakey      3820 non-null float64\n",
      "manufacturerspecificdatafield    3823 non-null object\n",
      "servicesuuid16                   0 non-null object\n",
      "servicesuuid32                   0 non-null object\n",
      "servicesuuid128                  1519 non-null object\n",
      "solicitedservicesuuid16          0 non-null object\n",
      "solicitedservicesuuid128         0 non-null object\n",
      "servicedata                      422 non-null object\n",
      "dtypes: float64(1), object(13)\n",
      "memory usage: 523.6+ KB\n"
     ]
    }
   ],
   "source": [
    "df = df.set_index('lastseen')\n",
    "df.info()"
   ]
  },
  {
   "cell_type": "code",
   "execution_count": 111,
   "metadata": {
    "collapsed": false
   },
   "outputs": [],
   "source": [
    "# http://stackoverflow.com/a/12910278/1181583\n",
    "start = datetime.datetime(2015, 9, 18)\n",
    "end = datetime.datetime(2015, 9, 19, 15, 48)\n",
    "ble_df = df.between_time(start,end)"
   ]
  },
  {
   "cell_type": "code",
   "execution_count": 112,
   "metadata": {
    "collapsed": false
   },
   "outputs": [
    {
     "name": "stdout",
     "output_type": "stream",
     "text": [
      "<class 'pandas.core.frame.DataFrame'>\n",
      "DatetimeIndex: 3136 entries, 2015-05-22 12:25:01 to 2015-09-19 15:43:37\n",
      "Data columns (total 14 columns):\n",
      "address                          3136 non-null object\n",
      "addresstype                      0 non-null object\n",
      "devicename                       502 non-null object\n",
      "devicetype                       3136 non-null object\n",
      "firstseen                        3136 non-null object\n",
      "scanresp                         0 non-null object\n",
      "manufacturerspecificdatakey      2676 non-null float64\n",
      "manufacturerspecificdatafield    2678 non-null object\n",
      "servicesuuid16                   0 non-null object\n",
      "servicesuuid32                   0 non-null object\n",
      "servicesuuid128                  1174 non-null object\n",
      "solicitedservicesuuid16          0 non-null object\n",
      "solicitedservicesuuid128         0 non-null object\n",
      "servicedata                      313 non-null object\n",
      "dtypes: float64(1), object(13)\n",
      "memory usage: 367.5+ KB\n"
     ]
    }
   ],
   "source": [
    "ble_df.info()"
   ]
  },
  {
   "cell_type": "code",
   "execution_count": 115,
   "metadata": {
    "collapsed": false
   },
   "outputs": [
    {
     "name": "stderr",
     "output_type": "stream",
     "text": [
      "/Users/onyame/anaconda/lib/python2.7/site-packages/IPython/kernel/__main__.py:1: SettingWithCopyWarning: \n",
      "A value is trying to be set on a copy of a slice from a DataFrame.\n",
      "Try using .loc[row_indexer,col_indexer] = value instead\n",
      "\n",
      "See the the caveats in the documentation: http://pandas.pydata.org/pandas-docs/stable/indexing.html#indexing-view-versus-copy\n",
      "  if __name__ == '__main__':\n"
     ]
    }
   ],
   "source": [
    "ble_df['devicetype'] = ble_df['devicetype'].str.replace('\\(.*\\)', '', case=False)"
   ]
  },
  {
   "cell_type": "code",
   "execution_count": 116,
   "metadata": {
    "collapsed": false
   },
   "outputs": [
    {
     "name": "stderr",
     "output_type": "stream",
     "text": [
      "/Users/onyame/anaconda/lib/python2.7/site-packages/IPython/kernel/__main__.py:10: SettingWithCopyWarning: \n",
      "A value is trying to be set on a copy of a slice from a DataFrame\n",
      "\n",
      "See the the caveats in the documentation: http://pandas.pydata.org/pandas-docs/stable/indexing.html#indexing-view-versus-copy\n",
      "/Users/onyame/anaconda/lib/python2.7/site-packages/IPython/core/interactiveshell.py:3035: SettingWithCopyWarning: \n",
      "A value is trying to be set on a copy of a slice from a DataFrame\n",
      "\n",
      "See the the caveats in the documentation: http://pandas.pydata.org/pandas-docs/stable/indexing.html#indexing-view-versus-copy\n",
      "  exec(code_obj, self.user_global_ns, self.user_ns)\n"
     ]
    },
    {
     "name": "stdout",
     "output_type": "stream",
     "text": [
      "estimote\n"
     ]
    },
    {
     "ename": "ValueError",
     "evalue": "The truth value of a Series is ambiguous. Use a.empty, a.bool(), a.item(), a.any() or a.all().",
     "output_type": "error",
     "traceback": [
      "\u001b[0;31m---------------------------------------------------------------------------\u001b[0m",
      "\u001b[0;31mValueError\u001b[0m                                Traceback (most recent call last)",
      "\u001b[0;32m<ipython-input-116-b64c79bc96b1>\u001b[0m in \u001b[0;36m<module>\u001b[0;34m()\u001b[0m\n\u001b[1;32m      1\u001b[0m \u001b[0;31m# Recognize some devices by name\u001b[0m\u001b[0;34m\u001b[0m\u001b[0;34m\u001b[0m\u001b[0m\n\u001b[1;32m      2\u001b[0m \u001b[0;32mfor\u001b[0m \u001b[0mi\u001b[0m \u001b[0;32min\u001b[0m \u001b[0mble_df\u001b[0m\u001b[0;34m.\u001b[0m\u001b[0mindex\u001b[0m\u001b[0;34m:\u001b[0m\u001b[0;34m\u001b[0m\u001b[0m\n\u001b[0;32m----> 3\u001b[0;31m     \u001b[0;32mif\u001b[0m \u001b[0mble_df\u001b[0m\u001b[0;34m.\u001b[0m\u001b[0mdevicename\u001b[0m\u001b[0;34m[\u001b[0m\u001b[0mi\u001b[0m\u001b[0;34m]\u001b[0m \u001b[0;34m!=\u001b[0m \u001b[0mNone\u001b[0m\u001b[0;34m:\u001b[0m\u001b[0;34m\u001b[0m\u001b[0m\n\u001b[0m\u001b[1;32m      4\u001b[0m         \u001b[0;32mif\u001b[0m \u001b[0mble_df\u001b[0m\u001b[0;34m.\u001b[0m\u001b[0mdevicename\u001b[0m\u001b[0;34m[\u001b[0m\u001b[0mi\u001b[0m\u001b[0;34m]\u001b[0m\u001b[0;34m[\u001b[0m\u001b[0;34m:\u001b[0m\u001b[0;36m4\u001b[0m\u001b[0;34m]\u001b[0m \u001b[0;34m==\u001b[0m \u001b[0;34m\"oura\"\u001b[0m\u001b[0;34m:\u001b[0m\u001b[0;34m\u001b[0m\u001b[0m\n\u001b[1;32m      5\u001b[0m             \u001b[0;32mprint\u001b[0m \u001b[0mble_df\u001b[0m\u001b[0;34m.\u001b[0m\u001b[0mdevicename\u001b[0m\u001b[0;34m[\u001b[0m\u001b[0mi\u001b[0m\u001b[0;34m]\u001b[0m\u001b[0;34m\u001b[0m\u001b[0m\n",
      "\u001b[0;32m/Users/onyame/anaconda/lib/python2.7/site-packages/pandas/core/generic.pyc\u001b[0m in \u001b[0;36m__nonzero__\u001b[0;34m(self)\u001b[0m\n\u001b[1;32m    712\u001b[0m         raise ValueError(\"The truth value of a {0} is ambiguous. \"\n\u001b[1;32m    713\u001b[0m                          \u001b[0;34m\"Use a.empty, a.bool(), a.item(), a.any() or a.all().\"\u001b[0m\u001b[0;34m\u001b[0m\u001b[0m\n\u001b[0;32m--> 714\u001b[0;31m                          .format(self.__class__.__name__))\n\u001b[0m\u001b[1;32m    715\u001b[0m \u001b[0;34m\u001b[0m\u001b[0m\n\u001b[1;32m    716\u001b[0m     \u001b[0m__bool__\u001b[0m \u001b[0;34m=\u001b[0m \u001b[0m__nonzero__\u001b[0m\u001b[0;34m\u001b[0m\u001b[0m\n",
      "\u001b[0;31mValueError\u001b[0m: The truth value of a Series is ambiguous. Use a.empty, a.bool(), a.item(), a.any() or a.all()."
     ]
    }
   ],
   "source": [
    "# Recognize some devices by name\n",
    "for i in ble_df.index:\n",
    "    if ble_df.devicename[i] != None:\n",
    "        if ble_df.devicename[i][:4] == \"oura\":\n",
    "            print ble_df.devicename[i]\n",
    "            ble_df.devicetype[i] = 'Oura'\n",
    "\n",
    "        if ble_df.devicename[i][:8] == \"estimote\":\n",
    "            print ble_df.devicename[i]\n",
    "            ble_df.devicetype[i] = 'Estimote Beacon'\n",
    "            \n",
    "        \n",
    "        if ble_df.devicename[i][:3] == \"UP3\":\n",
    "            print ble_df.devicename[i]\n",
    "            ble_df.devicetype[i] = 'Jawbone UP3'"
   ]
  },
  {
   "cell_type": "code",
   "execution_count": 117,
   "metadata": {
    "collapsed": true
   },
   "outputs": [],
   "source": [
    "device_types = ble_df.groupby('devicetype').size()\n",
    "device_names = ble_df.groupby('devicename').size()"
   ]
  },
  {
   "cell_type": "code",
   "execution_count": 118,
   "metadata": {
    "collapsed": false
   },
   "outputs": [
    {
     "data": {
      "text/plain": [
       "devicetype\n",
       "Apple device              1819\n",
       "Chipolo tracker              1\n",
       "Ericsson device              2\n",
       "Estimote Beacon              1\n",
       "Fitbit Charge               27\n",
       "Fitbit Charge HR            75\n",
       "Fitbit Flex                 46\n",
       "Fitbit One                  57\n",
       "Garmin Device               20\n",
       "Garmin Vivosmart             3\n",
       "Google device                1\n",
       "HTC RECAM                    2\n",
       "Jawbone UP24                14\n",
       "Jawbone device               1\n",
       "MI                          14\n",
       "Misfit Wearables Corp       13\n",
       "Nike device                 11\n",
       "Nordic device                1\n",
       "Samsung device              86\n",
       "Unknown 0x35EE device        2\n",
       "Unknown device             907\n",
       "Withings device             33\n",
       "dtype: int64"
      ]
     },
     "execution_count": 118,
     "metadata": {},
     "output_type": "execute_result"
    }
   ],
   "source": [
    "device_types"
   ]
  },
  {
   "cell_type": "code",
   "execution_count": 119,
   "metadata": {
    "collapsed": false
   },
   "outputs": [
    {
     "data": {
      "text/plain": [
       "<matplotlib.axes._subplots.AxesSubplot at 0x10d21ae50>"
      ]
     },
     "execution_count": 119,
     "metadata": {},
     "output_type": "execute_result"
    },
    {
     "data": {
      "image/png": "[encoded data removed]",
      "text/plain": [
       "<matplotlib.figure.Figure at 0x10d2482d0>"
      ]
     },
     "metadata": {},
     "output_type": "display_data"
    }
   ],
   "source": [
    "device_types.plot(kind='bar')"
   ]
  },
  {
   "cell_type": "code",
   "execution_count": 120,
   "metadata": {
    "collapsed": false
   },
   "outputs": [
    {
     "data": {
      "text/plain": [
       "Index([         u'Apple device ',       u'Chipolo tracker ',\n",
       "             u'Ericsson device ',        u'Estimote Beacon',\n",
       "               u'Fitbit Charge ',      u'Fitbit Charge HR ',\n",
       "                 u'Fitbit Flex ',            u'Fitbit One ',\n",
       "               u'Garmin Device ',      u'Garmin Vivosmart ',\n",
       "               u'Google device ',             u'HTC RECAM ',\n",
       "                u'Jawbone UP24 ',        u'Jawbone device ',\n",
       "                          u'MI ', u'Misfit Wearables Corp ',\n",
       "                 u'Nike device ',         u'Nordic device ',\n",
       "              u'Samsung device ', u'Unknown 0x35EE device ',\n",
       "               u'Unknown device',       u'Withings device '],\n",
       "      dtype='object', name=u'devicetype')"
      ]
     },
     "execution_count": 120,
     "metadata": {},
     "output_type": "execute_result"
    }
   ],
   "source": [
    "device_types.keys()"
   ]
  },
  {
   "cell_type": "code",
   "execution_count": 121,
   "metadata": {
    "collapsed": true
   },
   "outputs": [],
   "source": [
    "devices = device_types.drop([u'Apple device ',u'Samsung device ', u'Unknown device'])\n"
   ]
  },
  {
   "cell_type": "code",
   "execution_count": 122,
   "metadata": {
    "collapsed": false
   },
   "outputs": [
    {
     "data": {
      "text/plain": [
       "devicetype\n",
       "Chipolo tracker            1\n",
       "Ericsson device            2\n",
       "Estimote Beacon            1\n",
       "Fitbit Charge             27\n",
       "Fitbit Charge HR          75\n",
       "Fitbit Flex               46\n",
       "Fitbit One                57\n",
       "Garmin Device             20\n",
       "Garmin Vivosmart           3\n",
       "Google device              1\n",
       "HTC RECAM                  2\n",
       "Jawbone UP24              14\n",
       "Jawbone device             1\n",
       "MI                        14\n",
       "Misfit Wearables Corp     13\n",
       "Nike device               11\n",
       "Nordic device              1\n",
       "Unknown 0x35EE device      2\n",
       "Withings device           33\n",
       "dtype: int64"
      ]
     },
     "execution_count": 122,
     "metadata": {},
     "output_type": "execute_result"
    }
   ],
   "source": [
    "devices"
   ]
  },
  {
   "cell_type": "code",
   "execution_count": 123,
   "metadata": {
    "collapsed": false
   },
   "outputs": [
    {
     "data": {
      "text/plain": [
       "<matplotlib.axes._subplots.AxesSubplot at 0x10d334310>"
      ]
     },
     "execution_count": 123,
     "metadata": {},
     "output_type": "execute_result"
    },
    {
     "data": {
      "image/png": "[encoded data removed]",
      "text/plain": [
       "<matplotlib.figure.Figure at 0x10cfc3450>"
      ]
     },
     "metadata": {},
     "output_type": "display_data"
    }
   ],
   "source": [
    "devices.plot(kind='bar')"
   ]
  },
  {
   "cell_type": "code",
   "execution_count": null,
   "metadata": {
    "collapsed": true
   },
   "outputs": [],
   "source": []
  }
 ],
 "metadata": {
  "kernelspec": {
   "display_name": "Python 2",
   "language": "python",
   "name": "python2"
  },
  "language_info": {
   "codemirror_mode": {
    "name": "ipython",
    "version": 2
   },
   "file_extension": ".py",
   "mimetype": "text/x-python",
   "name": "python",
   "nbconvert_exporter": "python",
   "pygments_lexer": "ipython2",
   "version": "2.7.10"
  }
 },
 "nbformat": 4,
 "nbformat_minor": 0
}
